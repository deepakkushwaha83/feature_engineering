{
 "cells": [
  {
   "cell_type": "markdown",
   "id": "f05e1b29-6a6b-4418-bdd3-b7bde1452157",
   "metadata": {},
   "source": [
    "# *Feature Engineering Assignments*"
   ]
  },
  {
   "cell_type": "markdown",
   "id": "3420519a-1621-4d59-842c-fb43dc354125",
   "metadata": {},
   "source": [
    "### Q.1 What is a parameter?\n",
    "Ans. In machine learning, a parameter is a variable that a model learns from training data. These parameters determine how the model makes predictions."
   ]
  },
  {
   "cell_type": "markdown",
   "id": "9bab65b7-33e5-4d62-a5e5-65f1317c9c38",
   "metadata": {},
   "source": [
    "### Q.2 What is correlation? What does negative correlation mean?\n",
    "Ans.Correlation is a statistical measure that shows the relationship between two variables and how they move together. It ranges from -1 to +1:\n",
    "1. +1 (Perfect Positive Correlation)-> Both variables increase or decrease together.\n",
    "2. 0 (No Correlation)-> No relationship between the variables.\n",
    "3. -1 (Perfect Negative Correlation)->  One variable increases while the other decreases.\n",
    "\n",
    "*Negative Correlation:-*\n",
    "A negative correlation means that as one variable increases, the other decreases.\n",
    "\n",
    "e.g. If temperature increases, sales of winter clothes decreases."
   ]
  },
  {
   "cell_type": "markdown",
   "id": "01517d02-fea2-45a2-87fb-bde2f6df8e30",
   "metadata": {},
   "source": [
    "### Q.3 Define Machine Learning. What are the main components in Machine Learning?\n",
    "Ans.Machine Learning (ML) is a branch of artificial intelligence (AI) that enables computers to learn from data and make predictions or decisions without explicit programming. It improves performance over time by analyzing patterns in data.\n",
    "\n",
    "*Main Components of Machine Learning*\n",
    "1. Data\n",
    "2. Features\n",
    "3. Model\n",
    "4. Algorithm\n",
    "5. Training Function\n",
    "6. Loss/Cost Function\n",
    "7. Evaluation Metrices\n",
    "8. Prediction/Inferences"
   ]
  },
  {
   "cell_type": "markdown",
   "id": "90929d7f-66c4-437c-babe-7497ae032067",
   "metadata": {},
   "source": [
    "### Q.4 How does loss value help in determining whether the model is good or not?\n",
    "Ans.The loss value indicates how well a machine learning model’s predictions match the actual values. A lower loss means better predictions, while a higher loss indicates poor performance."
   ]
  },
  {
   "cell_type": "markdown",
   "id": "21d196b7-9296-4702-a060-fc95801f4290",
   "metadata": {},
   "source": [
    "### Q.5 What are continuous and categorical variables?\n",
    "Ans. *Continuous Variables*\n",
    "- These are numeric variables that can take any value within a range.\n",
    "- They are measurable and have an infinite number of possible values.\n",
    "- e.g Height,weight,temperature.\n",
    "\n",
    "  *Categorical Variable*\n",
    "- These are non-numeric variables that represent groups or categories.\n",
    "- They have a finite number of distinct values.\n",
    "- e.g. Gender(male or female)."
   ]
  },
  {
   "cell_type": "markdown",
   "id": "b30e1181-f98f-421f-8762-4c37bdb7cee5",
   "metadata": {},
   "source": [
    "### Q.6  How do we handle categorical variables in Machine Learning? What are the common techniques?\n",
    "Ans. Since most machine learning models require numerical input, categorical variables need to be converted into numerical form. Here are the common techniques to handle them;\n",
    "- One Hot Encoding/Nominal:-\n",
    "  creates separate binary columns for each category.\n",
    "  suitable for nominal variables ie. no order\n",
    "  \n",
    "- Label and Ordinal Encoding\n",
    "  assigns a unique number to each category.\n",
    "  suitable for ordinal variables (where order matters).\n",
    "  \n",
    "- Target Guided Ordinal Encoding\n",
    "  replaces each category with the mean of the target variable.\n",
    "  "
   ]
  },
  {
   "cell_type": "markdown",
   "id": "7db0035d-6229-4f5e-9d3c-f3281cc2c185",
   "metadata": {},
   "source": [
    "### Q.7 What do you mean by training and testing a dataset?\n",
    "Ans. *Training Datasets*\n",
    "- use to train the model\n",
    "- The model learns patterns and relationships from this data.\n",
    "- Usually 70-80% of the total dataset.\n",
    "\n",
    "*Testing Datasets*\n",
    "- Used to evaluate the model’s performance.\n",
    "- It checks how well the model makes predictions on unseen data\n",
    "- Usually 20-30% of the total dataset."
   ]
  },
  {
   "cell_type": "markdown",
   "id": "e9708f56-8138-4f31-ac90-98f8bd4ab199",
   "metadata": {},
   "source": [
    "### Q.8 What is sklearn.preprocessing?\n",
    "Ans. sklearn.preprocessing is a module in Scikit-Learn that provides functions to prepare and transform data before training a machine learning model."
   ]
  },
  {
   "cell_type": "markdown",
   "id": "a3452eef-34aa-4040-bf36-1be6fdb9cdd8",
   "metadata": {},
   "source": [
    "### Q.9  What is a Test set?\n",
    "Ans.A test set is a portion of the dataset used to evaluate the performance of a trained machine learning model. It helps check how well the model generalizes to new, unseen data."
   ]
  },
  {
   "cell_type": "markdown",
   "id": "1e59045d-a9e6-401c-b547-303511edae4f",
   "metadata": {},
   "source": [
    "### Q.10  How do we split data for model fitting (training and testing) in Python? How do you approach a Machine Learning problem?\n",
    "Ans.In machine learning, we split data into:\n",
    "- Training Set (70-80%) – Used to train the model.\n",
    "- Test Set (20-30%) – Used to evaluate model performance.\n",
    "\n",
    "*How to Approach a Machine Learning Problem?*\n",
    "- Define the Problem\n",
    "- Collect and Explore Data\n",
    "- Preprocess the Data\n",
    "- Split Data\n",
    "- Choose a Machine Learning Model\n",
    "- Train the Model\n",
    "- Evaluate the Model\n",
    "- Optimize and Improve\n",
    "- Make Predictions\n",
    "- Deploy the Model"
   ]
  },
  {
   "cell_type": "markdown",
   "id": "369b4dfc-9dfa-4ae2-a880-502c673be6a2",
   "metadata": {},
   "source": [
    "### Q.11 Why do we have to perform EDA before fitting a model to the data?\n",
    "Ans. Exploratory Data Analysis (EDA) helps understand the dataset before training a machine learning model. It ensures data quality, identifies patterns, and prevents errors."
   ]
  },
  {
   "cell_type": "markdown",
   "id": "66396786-0fb6-415c-b103-3fd5c5b786d4",
   "metadata": {},
   "source": [
    "### Q.12 What is correlation?\n",
    "Ans.Correlation is a statistical measure that shows the relationship between two variables and how they move together. It ranges from -1 to +1."
   ]
  },
  {
   "cell_type": "markdown",
   "id": "67944109-f5b6-4d31-8829-cc5f86458e13",
   "metadata": {},
   "source": [
    "### Q.13 What does negative correlation mean?\n",
    "Ans.*Negative Correlation:-*\n",
    "A negative correlation means that as one variable increases, the other decreases.\n",
    "\n",
    "e.g. If temperature increases, sales of winter clothes decreases."
   ]
  },
  {
   "cell_type": "markdown",
   "id": "ca39d6aa-db9c-4430-baf0-e3b2fe7abd7a",
   "metadata": {},
   "source": [
    "### Q.14 How can you find correlation between variables in Python?\n",
    "Ans. Correlation measures the relationship between two numerical variables. It helps determine how one variable changes with respect to another.\n",
    "- Using corr() Method in Pandas:-The .corr() function computes the correlation matrix for all numerical columns in a DataFrame\n",
    "- Visualizing Correlation Using Heatmap:- A heatmap makes it easier to interpret correlation values."
   ]
  },
  {
   "cell_type": "markdown",
   "id": "44211144-1621-4d84-a35a-5c8ddf0f992d",
   "metadata": {},
   "source": [
    "### Q.15 What is causation? Explain difference between correlation and causation with an example.\n",
    "Ans.Causation means that one event directly influences another. In simple terms, if A causes B, then changing A will result in a change in B.\n",
    "e.g More hours of studying means highest marks in exam.\n",
    "\n",
    "*Difference Between Correlation and Causation*\n",
    "Correlation:-\n",
    "- A relationship where two variables move together but one does not necessarily cause the other.\n",
    "- Nature of Correlation can be positive, negative, or no correlation.\n",
    "\n",
    "Caustion:\n",
    "- One variable directly affects another.\n",
    "- Nature of caustion is a cause-and-effect relationship."
   ]
  },
  {
   "cell_type": "markdown",
   "id": "b41e992f-5d3b-4467-9236-03b7dac794ee",
   "metadata": {},
   "source": [
    "### Q.16 What is an Optimizer? What are different types of optimizers? Explain each with an example.\n",
    "Ans.An optimizer is an algorithm that updates the model’s parameters (weights and biases) to minimize the loss function. It helps improve model performance by adjusting these parameters efficiently.\n",
    "\n",
    "*Types of Optimizers*\n",
    "- Gradient Descent (GD)\n",
    "- Momentum Optimizer\n",
    "- RMSprop (Root Mean Square Propagation)\n",
    "- Adam (Adaptive Moment Estimation)"
   ]
  },
  {
   "cell_type": "markdown",
   "id": "4af66ccf-e0dc-4e19-a89e-1d4e2ad77f63",
   "metadata": {},
   "source": [
    "### Q.17 What is sklearn.linear_model ?\n",
    "Ans. sklearn.linear_model is a module in Scikit-Learn that provides linear models for regression and classification tasks. These models assume a linear relationship between input features and the target variable"
   ]
  },
  {
   "cell_type": "markdown",
   "id": "910ffb0e-3394-4bfc-a0b0-0fafe7abe99d",
   "metadata": {},
   "source": [
    "### Q.18 What does model.fit() do? What arguments must be given?\n",
    "Ans. The .fit() method is used to train a machine learning model. It takes in training data (X) and labels (y) and learns the relationship between them by adjusting model parameters."
   ]
  },
  {
   "cell_type": "markdown",
   "id": "18eeb38c-8134-4212-a0d1-0520c082a271",
   "metadata": {},
   "source": [
    "### Q.19 What does model.predict() do? What arguments must be given?\n",
    "Ans. The .predict() method is used to make predictions on new data after a model has been trained using .fit(). It takes in feature values (X) and returns the predicted output (ŷ) based on learned parameters."
   ]
  },
  {
   "cell_type": "markdown",
   "id": "cdd147ad-8154-4e64-96dd-d5dfa7f30fb8",
   "metadata": {},
   "source": [
    "### Q.20 What are continuous and categorical variables?\n",
    "Ans. *Continuous Variables*\n",
    "- These are numeric variables that can take any value within a range.\n",
    "- They are measurable and have an infinite number of possible values.\n",
    "- e.g Height,weight,temperature.\n",
    "\n",
    "  *Categorical Variable*\n",
    "- These are non-numeric variables that represent groups or categories.\n",
    "- They have a finite number of distinct values.\n",
    "- e.g. Gender(male or female)."
   ]
  },
  {
   "cell_type": "markdown",
   "id": "cf795a11-ff73-4abe-b19c-a9fe9b6de1f6",
   "metadata": {},
   "source": [
    "### Q.21  What is feature scaling? How does it help in Machine Learning?\n",
    "Ans. Feature scaling is the process of normalizing or standardizing numerical features so they have the same scale. This ensures that all features contribute equally to the learning process."
   ]
  },
  {
   "cell_type": "markdown",
   "id": "2f88ac65-26be-4019-a235-f2ef92849ebf",
   "metadata": {},
   "source": [
    "### Q.22 How do we perform scaling in Python?\n",
    "Ans. Feature scaling transforms numerical features into a standard range to improve model performance. It ensures that features with different scales (e.g., salary in thousands vs. age in years) don’t dominate the learning process.\n",
    "*Types of Scaling*\n",
    "1. Min-Max Scaling(normailisation)\n",
    "2. Standardization (Z-score Scaling)\n",
    "3. Unit Vector"
   ]
  },
  {
   "cell_type": "markdown",
   "id": "37655388-0e53-4b48-afc4-cd2db172169d",
   "metadata": {},
   "source": [
    "### Q.23 What is sklearn.preprocessing?\n",
    "Ans.sklearn.preprocessing is a module in Scikit-Learn that provides functions to prepare and transform data before training a machine learning model."
   ]
  },
  {
   "cell_type": "markdown",
   "id": "7fcf3b42-2d30-41bb-98a2-1669005a078b",
   "metadata": {},
   "source": [
    "### Q.24 How do we split data for model fitting (training and testing) in Python?\n",
    "Ans.To train a machine learning model, we split the dataset into:\n",
    "- Training Set (70-80%) → Used to train the model\n",
    "- Testing Set (20-30%) → Used to evaluate model performance."
   ]
  },
  {
   "cell_type": "markdown",
   "id": "d85a1621-bea3-4071-9311-ec5c84b7ce27",
   "metadata": {},
   "source": [
    "### Q.25 Explain data encoding?\n",
    "Ans.Data encoding is the process of converting categorical variables (text labels) into a numerical format so that machine learning models can understand and process them."
   ]
  },
  {
   "cell_type": "code",
   "execution_count": null,
   "id": "31e387a0-358e-4273-9369-4fe2205d2fa9",
   "metadata": {},
   "outputs": [],
   "source": []
  }
 ],
 "metadata": {
  "kernelspec": {
   "display_name": "Python 3 (ipykernel)",
   "language": "python",
   "name": "python3"
  },
  "language_info": {
   "codemirror_mode": {
    "name": "ipython",
    "version": 3
   },
   "file_extension": ".py",
   "mimetype": "text/x-python",
   "name": "python",
   "nbconvert_exporter": "python",
   "pygments_lexer": "ipython3",
   "version": "3.12.4"
  }
 },
 "nbformat": 4,
 "nbformat_minor": 5
}
